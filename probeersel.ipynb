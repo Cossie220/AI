{
 "cells": [
  {
   "cell_type": "code",
   "execution_count": null,
   "source": [],
   "outputs": [],
   "metadata": {}
  },
  {
   "cell_type": "code",
   "execution_count": 1,
   "source": [
    "import json\r\n",
    "import numpy\r\n",
    "from whEnviroment import whEnviroment"
   ],
   "outputs": [],
   "metadata": {}
  },
  {
   "cell_type": "code",
   "execution_count": 2,
   "source": [
    "import pyautogui"
   ],
   "outputs": [],
   "metadata": {}
  },
  {
   "cell_type": "code",
   "execution_count": 5,
   "source": [
    "startBattle = { \"x\": 1715, \"y\": 435 }\r\n",
    "endBattle = { \"x\": 1715, \"y\": 390}\r\n",
    "rematch = { \"x\": 1715, \"y\": 770}\r\n",
    "\r\n",
    "middle = { \"x\": 1720, \"y\": 720}"
   ],
   "outputs": [],
   "metadata": {}
  },
  {
   "cell_type": "code",
   "execution_count": 4,
   "source": [
    "pyautogui.click(x = startBattle[\"x\"], y = startBattle[\"y\"])\r\n",
    "pyautogui.click(x = startBattle[\"x\"], y = startBattle[\"y\"])"
   ],
   "outputs": [],
   "metadata": {}
  },
  {
   "cell_type": "code",
   "execution_count": 6,
   "source": [
    "pyautogui.click(x = endBattle[\"x\"], y = endBattle[\"y\"])\r\n",
    "pyautogui.click(x = endBattle[\"x\"], y = endBattle[\"y\"])"
   ],
   "outputs": [],
   "metadata": {}
  },
  {
   "cell_type": "code",
   "execution_count": 7,
   "source": [
    "pyautogui.click(x = rematch[\"x\"], y = rematch[\"y\"])\r\n",
    "pyautogui.click(x = rematch[\"x\"], y = rematch[\"y\"])"
   ],
   "outputs": [],
   "metadata": {}
  },
  {
   "cell_type": "code",
   "execution_count": null,
   "source": [],
   "outputs": [],
   "metadata": {}
  }
 ],
 "metadata": {
  "kernelspec": {
   "name": "python3",
   "display_name": "Python 3.9.6 64-bit ('whAI': conda)"
  },
  "language_info": {
   "name": "python",
   "version": "3.9.6",
   "mimetype": "text/x-python",
   "codemirror_mode": {
    "name": "ipython",
    "version": 3
   },
   "pygments_lexer": "ipython3",
   "nbconvert_exporter": "python",
   "file_extension": ".py"
  },
  "interpreter": {
   "hash": "8ed7c5909a38136785d9c96ccfcf9928cb7b78186da759de1ffab4d6bb2ecead"
  }
 },
 "nbformat": 4,
 "nbformat_minor": 4
}