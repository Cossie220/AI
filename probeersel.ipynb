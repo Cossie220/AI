{
 "cells": [
  {
   "cell_type": "code",
   "execution_count": null,
   "source": [],
   "outputs": [],
   "metadata": {}
  },
  {
   "cell_type": "code",
   "execution_count": 1,
   "source": [
    "import json\r\n",
    "import numpy\r\n",
    "from whEnviroment import whEnviroment"
   ],
   "outputs": [],
   "metadata": {}
  },
  {
   "cell_type": "code",
   "execution_count": 2,
   "source": [
    "f = open(\"C:\\Program Files (x86)\\Steam\\steamapps\\common\\Total War WARHAMMER II\\observation.json\")\r\n",
    "\r\n",
    "data = json.load(f)\r\n",
    "print(\"allies:\")\r\n",
    "for i in data[\"allies\"]:\r\n",
    "    print(\"    \" + str(i))\r\n",
    "print(\"enemies:\")\r\n",
    "for i in data[\"enemies\"]:\r\n",
    "    print(\"    \" +  str(i))"
   ],
   "outputs": [
    {
     "output_type": "stream",
     "name": "stdout",
     "text": [
      "allies:\n",
      "    {'type': 'wh_main_emp_cha_karl_franz_0', 'unary_hitpoints': 1, 'can_fly': False, 'in_melee': False, 'is_wavering': False, 'is_shattered': False, 'position': {'y': 167.23637390137, 'x': -8.8745317459106, 'bearing': 171.24389648438, 'width': 1.3999999761581}, 'is_routing': False, 'is_flying': False, 'is_under_missile_attack': False, 'UiD': 1001}\n",
      "    {'type': 'wh_main_emp_inf_handgunners', 'unary_hitpoints': 1, 'can_fly': False, 'in_melee': False, 'is_wavering': False, 'is_shattered': False, 'position': {'y': 133.01972961426, 'x': 16.756784439087, 'bearing': 159.28527832031, 'width': 41.799999237061}, 'is_routing': False, 'is_flying': False, 'is_under_missile_attack': False, 'UiD': 1002}\n",
      "    {'type': 'wh_main_emp_cav_empire_knights', 'unary_hitpoints': 1, 'can_fly': False, 'in_melee': False, 'is_wavering': False, 'is_shattered': False, 'position': {'y': 140.80003356934, 'x': -9.8648271560669, 'bearing': 171.5625, 'width': 34.400001525879}, 'is_routing': False, 'is_flying': False, 'is_under_missile_attack': False, 'UiD': 1003}\n",
      "enemies:\n",
      "    {'type': 'wh_main_emp_cha_karl_franz_0', 'unary_hitpoints': 1, 'can_fly': False, 'in_melee': False, 'is_wavering': False, 'is_shattered': False, 'position': {'y': -149.77963256836, 'x': 39.89896774292, 'bearing': 359.09912109375, 'width': 1.3999999761581}, 'is_routing': False, 'is_flying': False, 'is_under_missile_attack': False, 'UiD': 1004}\n",
      "    {'type': 'wh_main_emp_inf_handgunners', 'unary_hitpoints': 1, 'can_fly': False, 'in_melee': False, 'is_wavering': False, 'is_shattered': False, 'position': {'y': -152.02462768555, 'x': 16.010021209717, 'bearing': 357.1875, 'width': 41.799999237061}, 'is_routing': False, 'is_flying': False, 'is_under_missile_attack': False, 'UiD': 1005}\n",
      "    {'type': 'wh_main_emp_cav_empire_knights', 'unary_hitpoints': 1, 'can_fly': False, 'in_melee': False, 'is_wavering': False, 'is_shattered': False, 'position': {'y': -174.27876281738, 'x': -22.730688095093, 'bearing': 357.1875, 'width': 34.400001525879}, 'is_routing': False, 'is_flying': False, 'is_under_missile_attack': False, 'UiD': 1006}\n"
     ]
    }
   ],
   "metadata": {}
  },
  {
   "cell_type": "code",
   "execution_count": 3,
   "source": [
    "f = open(\"C:\\Program Files (x86)\\Steam\\steamapps\\common\\Total War WARHAMMER II\\orders.json\")\r\n",
    "\r\n",
    "data = json.load(f)\r\n",
    "for i in data[\"alies\"]:\r\n",
    "    print(i)"
   ],
   "outputs": [
    {
     "output_type": "stream",
     "name": "stdout",
     "text": [
      "{'goto': {'x': 0.0, 'y': 0.0, 'moveFast': True}, 'attack': {'attack': True, 'unit': 1}}\n",
      "{'goto': {'x': 100.0, 'y': 0.0, 'moveFast': True}, 'attack': {'attack': False, 'unit': 1}}\n",
      "{'goto': {'x': -100.0, 'y': 0.0, 'moveFast': False}, 'attack': {'attack': True, 'unit': 1}}\n"
     ]
    }
   ],
   "metadata": {}
  },
  {
   "cell_type": "code",
   "execution_count": 4,
   "source": [
    "env = whEnviroment(True,False)"
   ],
   "outputs": [],
   "metadata": {}
  },
  {
   "cell_type": "code",
   "execution_count": 7,
   "source": [
    "env.readObservation()"
   ],
   "outputs": [
    {
     "output_type": "execute_result",
     "data": {
      "text/plain": [
       "array([[1.        , 0.49112547, 0.66723637, 0.47567749, 0.014     ,\n",
       "        0.33333333, 0.        , 0.        , 0.        , 0.        ,\n",
       "        0.        , 1.        ],\n",
       "       [1.        , 0.51675678, 0.63301973, 0.44245911, 0.41799999,\n",
       "        0.66666667, 0.        , 0.        , 0.        , 0.        ,\n",
       "        0.        , 1.        ],\n",
       "       [1.        , 0.49013517, 0.64080003, 0.4765625 , 0.34400002,\n",
       "        1.        , 0.        , 0.        , 0.        , 0.        ,\n",
       "        0.        , 1.        ],\n",
       "       [0.        , 0.        , 0.        , 0.        , 0.        ,\n",
       "        0.        , 0.        , 0.        , 0.        , 0.        ,\n",
       "        0.        , 0.        ],\n",
       "       [0.        , 0.51601002, 0.34797537, 0.9921875 , 0.41799999,\n",
       "        0.66666667, 0.        , 0.        , 0.        , 0.        ,\n",
       "        0.        , 1.        ],\n",
       "       [0.        , 0.47726931, 0.32572124, 0.9921875 , 0.34400002,\n",
       "        1.        , 0.        , 0.        , 0.        , 0.        ,\n",
       "        0.        , 1.        ]])"
      ]
     },
     "metadata": {},
     "execution_count": 7
    }
   ],
   "metadata": {}
  },
  {
   "cell_type": "code",
   "execution_count": null,
   "source": [],
   "outputs": [],
   "metadata": {}
  },
  {
   "cell_type": "code",
   "execution_count": null,
   "source": [],
   "outputs": [],
   "metadata": {}
  }
 ],
 "metadata": {
  "kernelspec": {
   "name": "python3",
   "display_name": "Python 3.9.6 64-bit ('whAI': conda)"
  },
  "language_info": {
   "name": "python",
   "version": "3.9.6",
   "mimetype": "text/x-python",
   "codemirror_mode": {
    "name": "ipython",
    "version": 3
   },
   "pygments_lexer": "ipython3",
   "nbconvert_exporter": "python",
   "file_extension": ".py"
  },
  "interpreter": {
   "hash": "8ed7c5909a38136785d9c96ccfcf9928cb7b78186da759de1ffab4d6bb2ecead"
  }
 },
 "nbformat": 4,
 "nbformat_minor": 4
}