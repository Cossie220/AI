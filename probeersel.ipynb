{
 "cells": [
  {
   "cell_type": "code",
   "execution_count": null,
   "metadata": {},
   "outputs": [],
   "source": []
  },
  {
   "cell_type": "code",
   "execution_count": 1,
   "metadata": {},
   "outputs": [],
   "source": [
    "import json\n",
    "import numpy\n",
    "from whEnviroment import whEnviroment"
   ]
  },
  {
   "cell_type": "code",
   "execution_count": 2,
   "metadata": {},
   "outputs": [
    {
     "name": "stdout",
     "output_type": "stream",
     "text": [
      "allies:\n",
      "    {'type': 'wh_main_emp_cha_karl_franz_0', 'unary_hitpoints': 0.13689365983009, 'can_fly': False, 'in_melee': False, 'is_wavering': False, 'position': {'y': 150.6424407959, 'x': 265.65338134766, 'bearing': 322.65197753906, 'width': 1.3999999761581}, 'is_under_missile_attack': False, 'is_flying': False, 'is_routing': False, 'is_shattered': False}\n",
      "    {'type': 'wh_main_emp_inf_handgunners', 'unary_hitpoints': 0.63188403844833, 'can_fly': False, 'in_melee': False, 'is_wavering': False, 'position': {'y': 149.28791809082, 'x': 100.25894165039, 'bearing': 182.91687011719, 'width': 41.799999237061}, 'is_under_missile_attack': False, 'is_flying': False, 'is_routing': False, 'is_shattered': False}\n",
      "    {'type': 'wh_main_emp_cav_empire_knights', 'unary_hitpoints': 0.10440798103809, 'can_fly': False, 'in_melee': False, 'is_wavering': False, 'position': {'y': 150.42922973633, 'x': 262.4817199707, 'bearing': 322.38830566406, 'width': 31.39999961853}, 'is_under_missile_attack': False, 'is_flying': False, 'is_routing': False, 'is_shattered': False}\n",
      "enemies:\n",
      "    {'type': 'wh_main_emp_cha_karl_franz_0', 'unary_hitpoints': 0, 'can_fly': False, 'in_melee': True, 'is_wavering': False, 'position': {'y': 151.11813354492, 'x': 18.877851486206, 'bearing': 94.564819335938, 'width': 1.3999999761581}, 'is_under_missile_attack': True, 'is_flying': False, 'is_routing': True, 'is_shattered': False}\n"
     ]
    }
   ],
   "source": [
    "f = open(\"C:\\Program Files (x86)\\Steam\\steamapps\\common\\Total War WARHAMMER II\\observation.json\")\n",
    "\n",
    "data = json.load(f)\n",
    "print(\"allies:\")\n",
    "for i in data[\"allies\"]:\n",
    "    print(\"    \" + str(i))\n",
    "print(\"enemies:\")\n",
    "for i in data[\"enemies\"]:\n",
    "    print(\"    \" +  str(i))"
   ]
  },
  {
   "cell_type": "code",
   "execution_count": 3,
   "metadata": {},
   "outputs": [
    {
     "name": "stdout",
     "output_type": "stream",
     "text": [
      "{'goto': {'x': 0.0, 'y': 0.0, 'moveFast': True}, 'attack': {'attack': True, 'unit': 1}}\n",
      "{'goto': {'x': 100.0, 'y': 0.0, 'moveFast': True}, 'attack': {'attack': False, 'unit': 1}}\n",
      "{'goto': {'x': -100.0, 'y': 0.0, 'moveFast': False}, 'attack': {'attack': True, 'unit': 1}}\n"
     ]
    }
   ],
   "source": [
    "f = open(\"C:\\Program Files (x86)\\Steam\\steamapps\\common\\Total War WARHAMMER II\\orders.json\")\n",
    "\n",
    "data = json.load(f)\n",
    "for i in data[\"alies\"]:\n",
    "    print(i)"
   ]
  },
  {
   "cell_type": "code",
   "execution_count": 4,
   "metadata": {},
   "outputs": [],
   "source": [
    "env = whEnviroment()"
   ]
  },
  {
   "cell_type": "code",
   "execution_count": 5,
   "metadata": {},
   "outputs": [
    {
     "ename": "AttributeError",
     "evalue": "'numpy.ndarray' object has no attribute 'append'",
     "output_type": "error",
     "traceback": [
      "\u001b[1;31m---------------------------------------------------------------------------\u001b[0m",
      "\u001b[1;31mAttributeError\u001b[0m                            Traceback (most recent call last)",
      "\u001b[1;32m~\\AppData\\Local\\Temp/ipykernel_8116/107992429.py\u001b[0m in \u001b[0;36m<module>\u001b[1;34m\u001b[0m\n\u001b[1;32m----> 1\u001b[1;33m \u001b[0menv\u001b[0m\u001b[1;33m.\u001b[0m\u001b[0mreadObservation\u001b[0m\u001b[1;33m(\u001b[0m\u001b[1;33m)\u001b[0m\u001b[1;33m\u001b[0m\u001b[1;33m\u001b[0m\u001b[0m\n\u001b[0m",
      "\u001b[1;32mC:\\projects\\warhammer2\\AI\\whEnviroment.py\u001b[0m in \u001b[0;36mreadObservation\u001b[1;34m(self)\u001b[0m\n\u001b[0;32m     45\u001b[0m         \u001b[1;32mfor\u001b[0m \u001b[0mally\u001b[0m \u001b[1;32min\u001b[0m \u001b[0mself\u001b[0m\u001b[1;33m.\u001b[0m\u001b[0malliedObs\u001b[0m\u001b[1;33m:\u001b[0m\u001b[1;33m\u001b[0m\u001b[1;33m\u001b[0m\u001b[0m\n\u001b[0;32m     46\u001b[0m             \u001b[0mobservation\u001b[0m \u001b[1;33m=\u001b[0m \u001b[0mself\u001b[0m\u001b[1;33m.\u001b[0m\u001b[0msingleObservation\u001b[0m\u001b[1;33m(\u001b[0m\u001b[0mally\u001b[0m\u001b[1;33m,\u001b[0m\u001b[1;32mTrue\u001b[0m\u001b[1;33m)\u001b[0m\u001b[1;33m\u001b[0m\u001b[1;33m\u001b[0m\u001b[0m\n\u001b[1;32m---> 47\u001b[1;33m             \u001b[0mobservations\u001b[0m\u001b[1;33m.\u001b[0m\u001b[0mappend\u001b[0m\u001b[1;33m(\u001b[0m\u001b[0mobservation\u001b[0m\u001b[1;33m,\u001b[0m\u001b[0maxis\u001b[0m\u001b[1;33m=\u001b[0m \u001b[1;36m0\u001b[0m\u001b[1;33m)\u001b[0m\u001b[1;33m\u001b[0m\u001b[1;33m\u001b[0m\u001b[0m\n\u001b[0m\u001b[0;32m     48\u001b[0m             \u001b[0mprint\u001b[0m\u001b[1;33m(\u001b[0m\u001b[0mobservations\u001b[0m\u001b[1;33m)\u001b[0m\u001b[1;33m\u001b[0m\u001b[1;33m\u001b[0m\u001b[0m\n\u001b[0;32m     49\u001b[0m \u001b[1;33m\u001b[0m\u001b[0m\n",
      "\u001b[1;31mAttributeError\u001b[0m: 'numpy.ndarray' object has no attribute 'append'"
     ]
    }
   ],
   "source": [
    "env.readObservation()"
   ]
  },
  {
   "cell_type": "code",
   "execution_count": null,
   "metadata": {},
   "outputs": [],
   "source": []
  },
  {
   "cell_type": "code",
   "execution_count": null,
   "metadata": {},
   "outputs": [],
   "source": []
  }
 ],
 "metadata": {
  "kernelspec": {
   "display_name": "Python [conda env:whAI]",
   "language": "python",
   "name": "conda-env-whAI-py"
  },
  "language_info": {
   "codemirror_mode": {
    "name": "ipython",
    "version": 3
   },
   "file_extension": ".py",
   "mimetype": "text/x-python",
   "name": "python",
   "nbconvert_exporter": "python",
   "pygments_lexer": "ipython3",
   "version": "3.9.7"
  }
 },
 "nbformat": 4,
 "nbformat_minor": 4
}
