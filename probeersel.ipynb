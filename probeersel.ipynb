{
 "cells": [
  {
   "cell_type": "code",
   "execution_count": null,
   "source": [],
   "outputs": [],
   "metadata": {}
  },
  {
   "cell_type": "code",
   "execution_count": 1,
   "source": [
    "import json\r\n",
    "import numpy\r\n",
    "from whEnviroment import whEnviroment"
   ],
   "outputs": [],
   "metadata": {}
  },
  {
   "cell_type": "code",
   "execution_count": 2,
   "source": [
    "f = open(\"C:\\Program Files (x86)\\Steam\\steamapps\\common\\Total War WARHAMMER II\\observation.json\")\r\n",
    "\r\n",
    "data = json.load(f)\r\n",
    "print(\"allies:\")\r\n",
    "for i in data[\"allies\"]:\r\n",
    "    print(\"    \" + str(i))\r\n",
    "print(\"enemies:\")\r\n",
    "for i in data[\"enemies\"]:\r\n",
    "    print(\"    \" +  str(i))"
   ],
   "outputs": [
    {
     "output_type": "stream",
     "name": "stdout",
     "text": [
      "allies:\n",
      "    {'type': 'wh_main_emp_cha_karl_franz_0', 'unary_hitpoints': 1, 'can_fly': False, 'in_melee': False, 'is_wavering': False, 'is_shattered': False, 'position': {'y': 23.370679855347, 'x': 13.26727104187, 'bearing': 171.24938964844, 'width': 1.3999999761581}, 'is_routing': False, 'is_flying': False, 'is_under_missile_attack': False, 'UiD': 1001}\n",
      "    {'type': 'wh_main_emp_inf_handgunners', 'unary_hitpoints': 1, 'can_fly': False, 'in_melee': False, 'is_wavering': False, 'is_shattered': False, 'position': {'y': 4.1933641433716, 'x': 97.700859069824, 'bearing': 143.35510253906, 'width': 41.799999237061}, 'is_routing': False, 'is_flying': False, 'is_under_missile_attack': False, 'UiD': 1002}\n",
      "    {'type': 'wh_main_emp_cav_empire_knights', 'unary_hitpoints': 0.83573716878891, 'can_fly': False, 'in_melee': True, 'is_wavering': False, 'is_shattered': False, 'position': {'y': -144.43148803711, 'x': 41.359355926514, 'bearing': 166.32751464844, 'width': 34.400001525879}, 'is_routing': False, 'is_flying': False, 'is_under_missile_attack': True, 'UiD': 1003}\n",
      "enemies:\n",
      "    {'type': 'wh_main_emp_cha_karl_franz_0', 'unary_hitpoints': 0.98087686300278, 'can_fly': False, 'in_melee': True, 'is_wavering': False, 'is_shattered': False, 'position': {'y': -154.5366973877, 'x': 43.374565124512, 'bearing': 343.63586425781, 'width': 1.3999999761581}, 'is_routing': False, 'is_flying': False, 'is_under_missile_attack': False, 'UiD': 1004}\n",
      "    {'type': 'wh_main_emp_inf_handgunners', 'unary_hitpoints': 1, 'can_fly': False, 'in_melee': False, 'is_wavering': False, 'is_shattered': False, 'position': {'y': -160.69226074219, 'x': 8.1164417266846, 'bearing': 25.916748046875, 'width': 41.799999237061}, 'is_routing': False, 'is_flying': False, 'is_under_missile_attack': False, 'UiD': 1005}\n",
      "    {'type': 'wh_main_emp_cav_empire_knights', 'unary_hitpoints': 0.99631410837173, 'can_fly': False, 'in_melee': True, 'is_wavering': False, 'is_shattered': False, 'position': {'y': -142.91416931152, 'x': 7.9696907997131, 'bearing': 102.52990722656, 'width': 34.400001525879}, 'is_routing': False, 'is_flying': False, 'is_under_missile_attack': False, 'UiD': 1006}\n"
     ]
    }
   ],
   "metadata": {}
  },
  {
   "cell_type": "code",
   "execution_count": 3,
   "source": [
    "f = open(\"C:\\Program Files (x86)\\Steam\\steamapps\\common\\Total War WARHAMMER II\\orders.json\")\r\n",
    "\r\n",
    "data = json.load(f)\r\n",
    "for i in data[\"alies\"]:\r\n",
    "    print(i)"
   ],
   "outputs": [
    {
     "output_type": "stream",
     "name": "stdout",
     "text": [
      "{'goto': {'x': 0.0, 'y': 0.0, 'moveFast': True}, 'attack': {'attack': True, 'unit': 1}}\n",
      "{'goto': {'x': 100.0, 'y': 0.0, 'moveFast': True}, 'attack': {'attack': False, 'unit': 1}}\n",
      "{'goto': {'x': -100.0, 'y': 0.0, 'moveFast': False}, 'attack': {'attack': True, 'unit': 1}}\n"
     ]
    }
   ],
   "metadata": {}
  },
  {
   "cell_type": "code",
   "execution_count": 4,
   "source": [
    "env = whEnviroment(True)"
   ],
   "outputs": [],
   "metadata": {}
  },
  {
   "cell_type": "code",
   "execution_count": 6,
   "source": [
    "obs, reward, done = env.step(True)\r\n",
    "print(obs)"
   ],
   "outputs": [
    {
     "output_type": "stream",
     "name": "stdout",
     "text": [
      "[[1.         0.54611465 0.29761859 0.52018738 0.014      0.33333333\n",
      "  0.         0.         0.         0.         0.         0.32765859]\n",
      " [1.         0.57243739 0.45185406 0.59973145 0.41799999 0.66666667\n",
      "  0.         0.         0.         0.         0.         0.69516909]\n",
      " [1.         0.54201602 0.61996163 0.02017212 0.34400002 1.\n",
      "  0.         0.         0.         1.         0.         0.06217533]\n",
      " [0.         0.54719918 0.2930213  0.51425171 0.014      0.33333333\n",
      "  0.         0.         0.         1.         1.         0.13899253]\n",
      " [0.         0.47348503 0.32833064 0.63661194 0.41799999 0.66666667\n",
      "  1.         0.         0.         1.         1.         0.23848632]\n",
      " [0.         0.52940679 0.18114273 0.52182007 0.314      1.\n",
      "  0.         0.         0.         1.         1.         0.07232603]]\n"
     ]
    }
   ],
   "metadata": {}
  },
  {
   "cell_type": "code",
   "execution_count": 2,
   "source": [
    "import pyautogui"
   ],
   "outputs": [],
   "metadata": {}
  },
  {
   "cell_type": "code",
   "execution_count": 12,
   "source": [
    "startBattle = { \"x\": 1715, \"y\": 435 }\r\n",
    "endBattle = { \"x\": 1715, \"y\": 390}\r\n",
    "rematch = { \"x\": 1715, \"y\": 770}"
   ],
   "outputs": [],
   "metadata": {}
  },
  {
   "cell_type": "code",
   "execution_count": 14,
   "source": [
    "pyautogui.click(x = startBattle[\"x\"], y = startBattle[\"y\"])\r\n",
    "pyautogui.click(x = startBattle[\"x\"], y = startBattle[\"y\"])"
   ],
   "outputs": [],
   "metadata": {}
  },
  {
   "cell_type": "code",
   "execution_count": 10,
   "source": [
    "pyautogui.click(x = endBattle[\"x\"], y = endBattle[\"y\"])\r\n",
    "pyautogui.click(x = endBattle[\"x\"], y = endBattle[\"y\"])"
   ],
   "outputs": [],
   "metadata": {}
  },
  {
   "cell_type": "code",
   "execution_count": 13,
   "source": [
    "pyautogui.click(x = rematch[\"x\"], y = rematch[\"y\"])\r\n",
    "pyautogui.click(x = rematch[\"x\"], y = rematch[\"y\"])"
   ],
   "outputs": [],
   "metadata": {}
  },
  {
   "cell_type": "code",
   "execution_count": null,
   "source": [],
   "outputs": [],
   "metadata": {}
  }
 ],
 "metadata": {
  "kernelspec": {
   "name": "python3",
   "display_name": "Python 3.9.6 64-bit ('whAI': conda)"
  },
  "language_info": {
   "name": "python",
   "version": "3.9.6",
   "mimetype": "text/x-python",
   "codemirror_mode": {
    "name": "ipython",
    "version": 3
   },
   "pygments_lexer": "ipython3",
   "nbconvert_exporter": "python",
   "file_extension": ".py"
  },
  "interpreter": {
   "hash": "8ed7c5909a38136785d9c96ccfcf9928cb7b78186da759de1ffab4d6bb2ecead"
  }
 },
 "nbformat": 4,
 "nbformat_minor": 4
}