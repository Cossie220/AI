{
 "cells": [
  {
   "cell_type": "code",
   "execution_count": 1,
   "source": [
    "from whEnviroment import whEnviroment\r\n",
    "\r\n",
    "env = whEnviroment(True)"
   ],
   "outputs": [],
   "metadata": {}
  },
  {
   "cell_type": "code",
   "execution_count": 4,
   "source": [
    "obs = env.reset()"
   ],
   "outputs": [
    {
     "output_type": "stream",
     "name": "stdout",
     "text": [
      "**************************\n",
      "***   awaiting reset   ***\n",
      "**************************\n",
      "ready for battle\n"
     ]
    }
   ],
   "metadata": {}
  },
  {
   "cell_type": "code",
   "execution_count": null,
   "source": [],
   "outputs": [],
   "metadata": {}
  }
 ],
 "metadata": {
  "kernelspec": {
   "name": "python3",
   "display_name": "Python 3.9.6 64-bit ('whAI': conda)"
  },
  "language_info": {
   "name": "python",
   "version": "3.9.6",
   "mimetype": "text/x-python",
   "codemirror_mode": {
    "name": "ipython",
    "version": 3
   },
   "pygments_lexer": "ipython3",
   "nbconvert_exporter": "python",
   "file_extension": ".py"
  },
  "interpreter": {
   "hash": "8ed7c5909a38136785d9c96ccfcf9928cb7b78186da759de1ffab4d6bb2ecead"
  }
 },
 "nbformat": 4,
 "nbformat_minor": 4
}