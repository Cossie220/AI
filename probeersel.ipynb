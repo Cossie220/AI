{
 "cells": [
  {
   "cell_type": "code",
   "execution_count": null,
   "source": [],
   "outputs": [],
   "metadata": {}
  },
  {
   "cell_type": "code",
   "execution_count": 1,
   "source": [
    "import json\r\n",
    "import numpy\r\n",
    "from whEnviroment import whEnviroment"
   ],
   "outputs": [],
   "metadata": {}
  },
  {
   "cell_type": "code",
   "execution_count": 2,
   "source": [
    "f = open(\"C:\\Program Files (x86)\\Steam\\steamapps\\common\\Total War WARHAMMER II\\observation.json\")\r\n",
    "\r\n",
    "data = json.load(f)\r\n",
    "print(\"allies:\")\r\n",
    "for i in data[\"allies\"]:\r\n",
    "    print(\"    \" + str(i))\r\n",
    "print(\"enemies:\")\r\n",
    "for i in data[\"enemies\"]:\r\n",
    "    print(\"    \" +  str(i))"
   ],
   "outputs": [
    {
     "output_type": "stream",
     "name": "stdout",
     "text": [
      "allies:\n",
      "    {'type': 'wh_main_emp_cha_karl_franz_0', 'unary_hitpoints': 1, 'can_fly': False, 'in_melee': False, 'is_wavering': False, 'position': {'y': 155.74485778809, 'x': -8.6469020843506, 'bearing': 176.03942871094, 'width': 1.3999999761581}, 'is_under_missile_attack': False, 'is_flying': False, 'is_routing': False, 'is_shattered': False}\n",
      "    {'type': 'wh_main_emp_inf_handgunners', 'unary_hitpoints': 1, 'can_fly': False, 'in_melee': False, 'is_wavering': False, 'position': {'y': 153.51969909668, 'x': 27.07152557373, 'bearing': 144.80529785156, 'width': 41.799999237061}, 'is_under_missile_attack': False, 'is_flying': False, 'is_routing': False, 'is_shattered': False}\n",
      "    {'type': 'wh_main_emp_cav_empire_knights', 'unary_hitpoints': 1, 'can_fly': False, 'in_melee': False, 'is_wavering': False, 'position': {'y': 153.63909912109, 'x': -8.9609699249268, 'bearing': 176.90185546875, 'width': 34.400001525879}, 'is_under_missile_attack': False, 'is_flying': False, 'is_routing': False, 'is_shattered': False}\n",
      "enemies:\n",
      "    {'type': 'wh_main_emp_cha_karl_franz_0', 'unary_hitpoints': 1, 'can_fly': False, 'in_melee': False, 'is_wavering': False, 'position': {'y': 150.64364624023, 'x': 12.909501075745, 'bearing': 359.25842285156, 'width': 1.3999999761581}, 'is_under_missile_attack': False, 'is_flying': False, 'is_routing': False, 'is_shattered': False}\n",
      "    {'type': 'wh_main_emp_inf_handgunners', 'unary_hitpoints': 1, 'can_fly': False, 'in_melee': False, 'is_wavering': False, 'position': {'y': 150.9886932373, 'x': 10.274607658386, 'bearing': 357.1875, 'width': 41.799999237061}, 'is_under_missile_attack': False, 'is_flying': False, 'is_routing': False, 'is_shattered': False}\n",
      "    {'type': 'wh_main_emp_cav_empire_knights', 'unary_hitpoints': 1, 'can_fly': False, 'in_melee': False, 'is_wavering': False, 'position': {'y': 150.38792419434, 'x': -18.065320968628, 'bearing': 357.1875, 'width': 40.400001525879}, 'is_under_missile_attack': False, 'is_flying': False, 'is_routing': False, 'is_shattered': False}\n"
     ]
    }
   ],
   "metadata": {}
  },
  {
   "cell_type": "code",
   "execution_count": 3,
   "source": [
    "f = open(\"C:\\Program Files (x86)\\Steam\\steamapps\\common\\Total War WARHAMMER II\\orders.json\")\r\n",
    "\r\n",
    "data = json.load(f)\r\n",
    "for i in data[\"alies\"]:\r\n",
    "    print(i)"
   ],
   "outputs": [
    {
     "output_type": "stream",
     "name": "stdout",
     "text": [
      "{'goto': {'x': 0.0, 'y': 0.0, 'moveFast': True}, 'attack': {'attack': True, 'unit': 1}}\n",
      "{'goto': {'x': 100.0, 'y': 0.0, 'moveFast': True}, 'attack': {'attack': False, 'unit': 1}}\n",
      "{'goto': {'x': -100.0, 'y': 0.0, 'moveFast': False}, 'attack': {'attack': True, 'unit': 1}}\n"
     ]
    }
   ],
   "metadata": {}
  },
  {
   "cell_type": "code",
   "execution_count": 4,
   "source": [
    "env = whEnviroment()"
   ],
   "outputs": [],
   "metadata": {}
  },
  {
   "cell_type": "code",
   "execution_count": 5,
   "source": [
    "env.readObservation()"
   ],
   "outputs": [
    {
     "output_type": "execute_result",
     "data": {
      "text/plain": [
       "array([[1.        , 0.4913531 , 0.65574486, 0.48899841, 0.014     ,\n",
       "        0.33333333, 0.        , 0.        , 0.        , 0.        ,\n",
       "        0.        , 1.        ],\n",
       "       [1.        , 0.52707153, 0.6535197 , 0.40223694, 0.41799999,\n",
       "        0.66666667, 0.        , 0.        , 0.        , 0.        ,\n",
       "        0.        , 1.        ],\n",
       "       [1.        , 0.49103903, 0.6536391 , 0.49139404, 0.34400002,\n",
       "        1.        , 0.        , 0.        , 0.        , 0.        ,\n",
       "        0.        , 1.        ],\n",
       "       [0.        , 0.5129095 , 0.65064365, 0.99794006, 0.014     ,\n",
       "        0.33333333, 0.        , 0.        , 0.        , 0.        ,\n",
       "        0.        , 1.        ],\n",
       "       [0.        , 0.51027461, 0.65098869, 0.9921875 , 0.41799999,\n",
       "        0.66666667, 0.        , 0.        , 0.        , 0.        ,\n",
       "        0.        , 1.        ],\n",
       "       [0.        , 0.48193468, 0.65038792, 0.9921875 , 0.40400002,\n",
       "        1.        , 0.        , 0.        , 0.        , 0.        ,\n",
       "        0.        , 1.        ]])"
      ]
     },
     "metadata": {},
     "execution_count": 5
    }
   ],
   "metadata": {}
  },
  {
   "cell_type": "code",
   "execution_count": null,
   "source": [],
   "outputs": [],
   "metadata": {}
  },
  {
   "cell_type": "code",
   "execution_count": null,
   "source": [],
   "outputs": [],
   "metadata": {}
  }
 ],
 "metadata": {
  "kernelspec": {
   "name": "python3",
   "display_name": "Python 3.9.7 64-bit ('whAI': conda)"
  },
  "language_info": {
   "name": "python",
   "version": "3.9.6",
   "mimetype": "text/x-python",
   "codemirror_mode": {
    "name": "ipython",
    "version": 3
   },
   "pygments_lexer": "ipython3",
   "nbconvert_exporter": "python",
   "file_extension": ".py"
  },
  "interpreter": {
   "hash": "8ed7c5909a38136785d9c96ccfcf9928cb7b78186da759de1ffab4d6bb2ecead"
  }
 },
 "nbformat": 4,
 "nbformat_minor": 4
}